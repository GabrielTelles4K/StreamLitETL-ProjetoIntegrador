{
 "cells": [
  {
   "cell_type": "markdown",
   "metadata": {},
   "source": [
    "### Leitura da base"
   ]
  },
  {
   "cell_type": "code",
   "execution_count": 134,
   "metadata": {},
   "outputs": [],
   "source": [
    "import pandas as pd"
   ]
  },
  {
   "cell_type": "code",
   "execution_count": 135,
   "metadata": {},
   "outputs": [],
   "source": [
    "df = pd.read_csv('csv_total\\oncologia.csv')"
   ]
  },
  {
   "cell_type": "code",
   "execution_count": 136,
   "metadata": {},
   "outputs": [
    {
     "data": {
      "text/html": [
       "<div>\n",
       "<style scoped>\n",
       "    .dataframe tbody tr th:only-of-type {\n",
       "        vertical-align: middle;\n",
       "    }\n",
       "\n",
       "    .dataframe tbody tr th {\n",
       "        vertical-align: top;\n",
       "    }\n",
       "\n",
       "    .dataframe thead th {\n",
       "        text-align: right;\n",
       "    }\n",
       "</style>\n",
       "<table border=\"1\" class=\"dataframe\">\n",
       "  <thead>\n",
       "    <tr style=\"text-align: right;\">\n",
       "      <th></th>\n",
       "      <th>ANO_DIAGN</th>\n",
       "      <th>ANOMES_DIA</th>\n",
       "      <th>ANO_TRATAM</th>\n",
       "      <th>ANOMES_TRA</th>\n",
       "      <th>UF_RESID</th>\n",
       "      <th>MUN_RESID</th>\n",
       "      <th>UF_TRATAM</th>\n",
       "      <th>MUN_TRATAM</th>\n",
       "      <th>UF_DIAGN</th>\n",
       "      <th>MUN_DIAG</th>\n",
       "      <th>...</th>\n",
       "      <th>SEXO</th>\n",
       "      <th>ESTADIAM</th>\n",
       "      <th>CNES_DIAG</th>\n",
       "      <th>CNES_TRAT</th>\n",
       "      <th>TEMPO_TRAT</th>\n",
       "      <th>CNS_PAC</th>\n",
       "      <th>DIAG_DETH</th>\n",
       "      <th>DT_DIAG</th>\n",
       "      <th>DT_TRAT</th>\n",
       "      <th>DT_NASC</th>\n",
       "    </tr>\n",
       "  </thead>\n",
       "  <tbody>\n",
       "    <tr>\n",
       "      <th>0</th>\n",
       "      <td>2018</td>\n",
       "      <td>201809</td>\n",
       "      <td>2020.0</td>\n",
       "      <td>202009.0</td>\n",
       "      <td>42</td>\n",
       "      <td>421570</td>\n",
       "      <td>42.0</td>\n",
       "      <td>420540.0</td>\n",
       "      <td>42</td>\n",
       "      <td>420540</td>\n",
       "      <td>...</td>\n",
       "      <td>F</td>\n",
       "      <td>4.0</td>\n",
       "      <td>19445</td>\n",
       "      <td>19445.0</td>\n",
       "      <td>735.0</td>\n",
       "      <td>NaN</td>\n",
       "      <td>C53</td>\n",
       "      <td>18/09/2018</td>\n",
       "      <td>22/09/2020</td>\n",
       "      <td>10/05/1977</td>\n",
       "    </tr>\n",
       "    <tr>\n",
       "      <th>1</th>\n",
       "      <td>2018</td>\n",
       "      <td>201811</td>\n",
       "      <td>2019.0</td>\n",
       "      <td>201905.0</td>\n",
       "      <td>31</td>\n",
       "      <td>310620</td>\n",
       "      <td>31.0</td>\n",
       "      <td>310620.0</td>\n",
       "      <td>31</td>\n",
       "      <td>310620</td>\n",
       "      <td>...</td>\n",
       "      <td>F</td>\n",
       "      <td>2.0</td>\n",
       "      <td>27049</td>\n",
       "      <td>27049.0</td>\n",
       "      <td>162.0</td>\n",
       "      <td>NaN</td>\n",
       "      <td>C50</td>\n",
       "      <td>20/11/2018</td>\n",
       "      <td>01/05/2019</td>\n",
       "      <td>30/11/1966</td>\n",
       "    </tr>\n",
       "    <tr>\n",
       "      <th>2</th>\n",
       "      <td>2018</td>\n",
       "      <td>201805</td>\n",
       "      <td>NaN</td>\n",
       "      <td>NaN</td>\n",
       "      <td>27</td>\n",
       "      <td>270430</td>\n",
       "      <td>NaN</td>\n",
       "      <td>NaN</td>\n",
       "      <td>27</td>\n",
       "      <td>270430</td>\n",
       "      <td>...</td>\n",
       "      <td>F</td>\n",
       "      <td>9.0</td>\n",
       "      <td>2007037</td>\n",
       "      <td>NaN</td>\n",
       "      <td>99999.0</td>\n",
       "      <td>NaN</td>\n",
       "      <td>C18</td>\n",
       "      <td>22/05/2018</td>\n",
       "      <td>NaN</td>\n",
       "      <td>17/08/1956</td>\n",
       "    </tr>\n",
       "    <tr>\n",
       "      <th>3</th>\n",
       "      <td>2018</td>\n",
       "      <td>201809</td>\n",
       "      <td>2019.0</td>\n",
       "      <td>201912.0</td>\n",
       "      <td>41</td>\n",
       "      <td>411520</td>\n",
       "      <td>41.0</td>\n",
       "      <td>411520.0</td>\n",
       "      <td>41</td>\n",
       "      <td>411520</td>\n",
       "      <td>...</td>\n",
       "      <td>M</td>\n",
       "      <td>NaN</td>\n",
       "      <td>2586169</td>\n",
       "      <td>2586169.0</td>\n",
       "      <td>440.0</td>\n",
       "      <td>NaN</td>\n",
       "      <td>C92</td>\n",
       "      <td>18/09/2018</td>\n",
       "      <td>02/12/2019</td>\n",
       "      <td>02/09/1977</td>\n",
       "    </tr>\n",
       "    <tr>\n",
       "      <th>4</th>\n",
       "      <td>2018</td>\n",
       "      <td>201809</td>\n",
       "      <td>NaN</td>\n",
       "      <td>NaN</td>\n",
       "      <td>35</td>\n",
       "      <td>353070</td>\n",
       "      <td>NaN</td>\n",
       "      <td>NaN</td>\n",
       "      <td>35</td>\n",
       "      <td>353070</td>\n",
       "      <td>...</td>\n",
       "      <td>M</td>\n",
       "      <td>9.0</td>\n",
       "      <td>2096463</td>\n",
       "      <td>NaN</td>\n",
       "      <td>99999.0</td>\n",
       "      <td>NaN</td>\n",
       "      <td>C02</td>\n",
       "      <td>25/09/2018</td>\n",
       "      <td>NaN</td>\n",
       "      <td>08/12/1983</td>\n",
       "    </tr>\n",
       "    <tr>\n",
       "      <th>...</th>\n",
       "      <td>...</td>\n",
       "      <td>...</td>\n",
       "      <td>...</td>\n",
       "      <td>...</td>\n",
       "      <td>...</td>\n",
       "      <td>...</td>\n",
       "      <td>...</td>\n",
       "      <td>...</td>\n",
       "      <td>...</td>\n",
       "      <td>...</td>\n",
       "      <td>...</td>\n",
       "      <td>...</td>\n",
       "      <td>...</td>\n",
       "      <td>...</td>\n",
       "      <td>...</td>\n",
       "      <td>...</td>\n",
       "      <td>...</td>\n",
       "      <td>...</td>\n",
       "      <td>...</td>\n",
       "      <td>...</td>\n",
       "      <td>...</td>\n",
       "    </tr>\n",
       "    <tr>\n",
       "      <th>3185032</th>\n",
       "      <td>2023</td>\n",
       "      <td>202308</td>\n",
       "      <td>2023.0</td>\n",
       "      <td>202308.0</td>\n",
       "      <td>35</td>\n",
       "      <td>350600</td>\n",
       "      <td>35.0</td>\n",
       "      <td>350600.0</td>\n",
       "      <td>35</td>\n",
       "      <td>350600</td>\n",
       "      <td>...</td>\n",
       "      <td>F</td>\n",
       "      <td>5.0</td>\n",
       "      <td>2790602</td>\n",
       "      <td>2790602.0</td>\n",
       "      <td>0.0</td>\n",
       "      <td>NaN</td>\n",
       "      <td>C76</td>\n",
       "      <td>10/08/2023</td>\n",
       "      <td>10/08/2023</td>\n",
       "      <td>19/12/1989</td>\n",
       "    </tr>\n",
       "    <tr>\n",
       "      <th>3185033</th>\n",
       "      <td>2023</td>\n",
       "      <td>202301</td>\n",
       "      <td>2023.0</td>\n",
       "      <td>202301.0</td>\n",
       "      <td>23</td>\n",
       "      <td>230440</td>\n",
       "      <td>23.0</td>\n",
       "      <td>230440.0</td>\n",
       "      <td>23</td>\n",
       "      <td>230440</td>\n",
       "      <td>...</td>\n",
       "      <td>M</td>\n",
       "      <td>5.0</td>\n",
       "      <td>2723220</td>\n",
       "      <td>2723220.0</td>\n",
       "      <td>0.0</td>\n",
       "      <td>NaN</td>\n",
       "      <td>C77</td>\n",
       "      <td>05/01/2023</td>\n",
       "      <td>05/01/2023</td>\n",
       "      <td>29/02/1984</td>\n",
       "    </tr>\n",
       "    <tr>\n",
       "      <th>3185034</th>\n",
       "      <td>2023</td>\n",
       "      <td>202311</td>\n",
       "      <td>NaN</td>\n",
       "      <td>NaN</td>\n",
       "      <td>50</td>\n",
       "      <td>500270</td>\n",
       "      <td>NaN</td>\n",
       "      <td>NaN</td>\n",
       "      <td>50</td>\n",
       "      <td>500270</td>\n",
       "      <td>...</td>\n",
       "      <td>M</td>\n",
       "      <td>9.0</td>\n",
       "      <td>9776</td>\n",
       "      <td>NaN</td>\n",
       "      <td>NaN</td>\n",
       "      <td>NaN</td>\n",
       "      <td>C83</td>\n",
       "      <td>03/11/2023</td>\n",
       "      <td>NaN</td>\n",
       "      <td>28/09/1959</td>\n",
       "    </tr>\n",
       "    <tr>\n",
       "      <th>3185035</th>\n",
       "      <td>2023</td>\n",
       "      <td>202302</td>\n",
       "      <td>2023.0</td>\n",
       "      <td>202303.0</td>\n",
       "      <td>35</td>\n",
       "      <td>352950</td>\n",
       "      <td>35.0</td>\n",
       "      <td>354980.0</td>\n",
       "      <td>35</td>\n",
       "      <td>354980</td>\n",
       "      <td>...</td>\n",
       "      <td>M</td>\n",
       "      <td>NaN</td>\n",
       "      <td>2077396</td>\n",
       "      <td>2077396.0</td>\n",
       "      <td>17.0</td>\n",
       "      <td>NaN</td>\n",
       "      <td>C80</td>\n",
       "      <td>25/02/2023</td>\n",
       "      <td>14/03/2023</td>\n",
       "      <td>20/06/1967</td>\n",
       "    </tr>\n",
       "    <tr>\n",
       "      <th>3185036</th>\n",
       "      <td>2023</td>\n",
       "      <td>202309</td>\n",
       "      <td>NaN</td>\n",
       "      <td>NaN</td>\n",
       "      <td>35</td>\n",
       "      <td>351550</td>\n",
       "      <td>NaN</td>\n",
       "      <td>NaN</td>\n",
       "      <td>35</td>\n",
       "      <td>354980</td>\n",
       "      <td>...</td>\n",
       "      <td>M</td>\n",
       "      <td>9.0</td>\n",
       "      <td>2077396</td>\n",
       "      <td>NaN</td>\n",
       "      <td>99999.0</td>\n",
       "      <td>NaN</td>\n",
       "      <td>C22</td>\n",
       "      <td>29/09/2023</td>\n",
       "      <td>NaN</td>\n",
       "      <td>25/12/1944</td>\n",
       "    </tr>\n",
       "  </tbody>\n",
       "</table>\n",
       "<p>3185037 rows × 23 columns</p>\n",
       "</div>"
      ],
      "text/plain": [
       "         ANO_DIAGN  ANOMES_DIA  ANO_TRATAM  ANOMES_TRA  UF_RESID  MUN_RESID  \\\n",
       "0             2018      201809      2020.0    202009.0        42     421570   \n",
       "1             2018      201811      2019.0    201905.0        31     310620   \n",
       "2             2018      201805         NaN         NaN        27     270430   \n",
       "3             2018      201809      2019.0    201912.0        41     411520   \n",
       "4             2018      201809         NaN         NaN        35     353070   \n",
       "...            ...         ...         ...         ...       ...        ...   \n",
       "3185032       2023      202308      2023.0    202308.0        35     350600   \n",
       "3185033       2023      202301      2023.0    202301.0        23     230440   \n",
       "3185034       2023      202311         NaN         NaN        50     500270   \n",
       "3185035       2023      202302      2023.0    202303.0        35     352950   \n",
       "3185036       2023      202309         NaN         NaN        35     351550   \n",
       "\n",
       "         UF_TRATAM  MUN_TRATAM  UF_DIAGN  MUN_DIAG  ...  SEXO  ESTADIAM  \\\n",
       "0             42.0    420540.0        42    420540  ...     F       4.0   \n",
       "1             31.0    310620.0        31    310620  ...     F       2.0   \n",
       "2              NaN         NaN        27    270430  ...     F       9.0   \n",
       "3             41.0    411520.0        41    411520  ...     M       NaN   \n",
       "4              NaN         NaN        35    353070  ...     M       9.0   \n",
       "...            ...         ...       ...       ...  ...   ...       ...   \n",
       "3185032       35.0    350600.0        35    350600  ...     F       5.0   \n",
       "3185033       23.0    230440.0        23    230440  ...     M       5.0   \n",
       "3185034        NaN         NaN        50    500270  ...     M       9.0   \n",
       "3185035       35.0    354980.0        35    354980  ...     M       NaN   \n",
       "3185036        NaN         NaN        35    354980  ...     M       9.0   \n",
       "\n",
       "         CNES_DIAG  CNES_TRAT  TEMPO_TRAT  CNS_PAC  DIAG_DETH     DT_DIAG  \\\n",
       "0            19445    19445.0       735.0      NaN        C53  18/09/2018   \n",
       "1            27049    27049.0       162.0      NaN        C50  20/11/2018   \n",
       "2          2007037        NaN     99999.0      NaN        C18  22/05/2018   \n",
       "3          2586169  2586169.0       440.0      NaN        C92  18/09/2018   \n",
       "4          2096463        NaN     99999.0      NaN        C02  25/09/2018   \n",
       "...            ...        ...         ...      ...        ...         ...   \n",
       "3185032    2790602  2790602.0         0.0      NaN        C76  10/08/2023   \n",
       "3185033    2723220  2723220.0         0.0      NaN        C77  05/01/2023   \n",
       "3185034       9776        NaN         NaN      NaN        C83  03/11/2023   \n",
       "3185035    2077396  2077396.0        17.0      NaN        C80  25/02/2023   \n",
       "3185036    2077396        NaN     99999.0      NaN        C22  29/09/2023   \n",
       "\n",
       "            DT_TRAT     DT_NASC  \n",
       "0        22/09/2020  10/05/1977  \n",
       "1        01/05/2019  30/11/1966  \n",
       "2               NaN  17/08/1956  \n",
       "3        02/12/2019  02/09/1977  \n",
       "4               NaN  08/12/1983  \n",
       "...             ...         ...  \n",
       "3185032  10/08/2023  19/12/1989  \n",
       "3185033  05/01/2023  29/02/1984  \n",
       "3185034         NaN  28/09/1959  \n",
       "3185035  14/03/2023  20/06/1967  \n",
       "3185036         NaN  25/12/1944  \n",
       "\n",
       "[3185037 rows x 23 columns]"
      ]
     },
     "execution_count": 136,
     "metadata": {},
     "output_type": "execute_result"
    }
   ],
   "source": [
    "df"
   ]
  },
  {
   "cell_type": "code",
   "execution_count": 137,
   "metadata": {},
   "outputs": [
    {
     "data": {
      "text/plain": [
       "<bound method NDFrame.describe of          ANO_DIAGN  ANOMES_DIA  ANO_TRATAM  ANOMES_TRA  UF_RESID  MUN_RESID  \\\n",
       "0             2018      201809      2020.0    202009.0        42     421570   \n",
       "1             2018      201811      2019.0    201905.0        31     310620   \n",
       "2             2018      201805         NaN         NaN        27     270430   \n",
       "3             2018      201809      2019.0    201912.0        41     411520   \n",
       "4             2018      201809         NaN         NaN        35     353070   \n",
       "...            ...         ...         ...         ...       ...        ...   \n",
       "3185032       2023      202308      2023.0    202308.0        35     350600   \n",
       "3185033       2023      202301      2023.0    202301.0        23     230440   \n",
       "3185034       2023      202311         NaN         NaN        50     500270   \n",
       "3185035       2023      202302      2023.0    202303.0        35     352950   \n",
       "3185036       2023      202309         NaN         NaN        35     351550   \n",
       "\n",
       "         UF_TRATAM  MUN_TRATAM  UF_DIAGN  MUN_DIAG  ...  SEXO  ESTADIAM  \\\n",
       "0             42.0    420540.0        42    420540  ...     F       4.0   \n",
       "1             31.0    310620.0        31    310620  ...     F       2.0   \n",
       "2              NaN         NaN        27    270430  ...     F       9.0   \n",
       "3             41.0    411520.0        41    411520  ...     M       NaN   \n",
       "4              NaN         NaN        35    353070  ...     M       9.0   \n",
       "...            ...         ...       ...       ...  ...   ...       ...   \n",
       "3185032       35.0    350600.0        35    350600  ...     F       5.0   \n",
       "3185033       23.0    230440.0        23    230440  ...     M       5.0   \n",
       "3185034        NaN         NaN        50    500270  ...     M       9.0   \n",
       "3185035       35.0    354980.0        35    354980  ...     M       NaN   \n",
       "3185036        NaN         NaN        35    354980  ...     M       9.0   \n",
       "\n",
       "         CNES_DIAG  CNES_TRAT  TEMPO_TRAT  CNS_PAC  DIAG_DETH     DT_DIAG  \\\n",
       "0            19445    19445.0       735.0      NaN        C53  18/09/2018   \n",
       "1            27049    27049.0       162.0      NaN        C50  20/11/2018   \n",
       "2          2007037        NaN     99999.0      NaN        C18  22/05/2018   \n",
       "3          2586169  2586169.0       440.0      NaN        C92  18/09/2018   \n",
       "4          2096463        NaN     99999.0      NaN        C02  25/09/2018   \n",
       "...            ...        ...         ...      ...        ...         ...   \n",
       "3185032    2790602  2790602.0         0.0      NaN        C76  10/08/2023   \n",
       "3185033    2723220  2723220.0         0.0      NaN        C77  05/01/2023   \n",
       "3185034       9776        NaN         NaN      NaN        C83  03/11/2023   \n",
       "3185035    2077396  2077396.0        17.0      NaN        C80  25/02/2023   \n",
       "3185036    2077396        NaN     99999.0      NaN        C22  29/09/2023   \n",
       "\n",
       "            DT_TRAT     DT_NASC  \n",
       "0        22/09/2020  10/05/1977  \n",
       "1        01/05/2019  30/11/1966  \n",
       "2               NaN  17/08/1956  \n",
       "3        02/12/2019  02/09/1977  \n",
       "4               NaN  08/12/1983  \n",
       "...             ...         ...  \n",
       "3185032  10/08/2023  19/12/1989  \n",
       "3185033  05/01/2023  29/02/1984  \n",
       "3185034         NaN  28/09/1959  \n",
       "3185035  14/03/2023  20/06/1967  \n",
       "3185036         NaN  25/12/1944  \n",
       "\n",
       "[3185037 rows x 23 columns]>"
      ]
     },
     "execution_count": 137,
     "metadata": {},
     "output_type": "execute_result"
    }
   ],
   "source": [
    "df.describe"
   ]
  },
  {
   "cell_type": "code",
   "execution_count": 138,
   "metadata": {},
   "outputs": [
    {
     "data": {
      "text/plain": [
       "ANO_DIAGN       int64\n",
       "ANOMES_DIA      int64\n",
       "ANO_TRATAM    float64\n",
       "ANOMES_TRA    float64\n",
       "UF_RESID        int64\n",
       "MUN_RESID       int64\n",
       "UF_TRATAM     float64\n",
       "MUN_TRATAM    float64\n",
       "UF_DIAGN        int64\n",
       "MUN_DIAG        int64\n",
       "TRATAMENTO      int64\n",
       "DIAGNOSTIC      int64\n",
       "IDADE           int64\n",
       "SEXO           object\n",
       "ESTADIAM      float64\n",
       "CNES_DIAG       int64\n",
       "CNES_TRAT     float64\n",
       "TEMPO_TRAT    float64\n",
       "CNS_PAC       float64\n",
       "DIAG_DETH      object\n",
       "DT_DIAG        object\n",
       "DT_TRAT        object\n",
       "DT_NASC        object\n",
       "dtype: object"
      ]
     },
     "execution_count": 138,
     "metadata": {},
     "output_type": "execute_result"
    }
   ],
   "source": [
    "df.dtypes"
   ]
  },
  {
   "cell_type": "markdown",
   "metadata": {},
   "source": [
    "### Transformação"
   ]
  },
  {
   "cell_type": "markdown",
   "metadata": {},
   "source": [
    "Aqui vamos transformar a coluna ANO_MESDIA, que vinha com os valores representando o ano e o mes do diagnóstico, agora passou a representar somente o mes do diagnóstico e foi nomeada para MES_DIAGN"
   ]
  },
  {
   "cell_type": "code",
   "execution_count": 139,
   "metadata": {},
   "outputs": [],
   "source": [
    "#transformando a coluna ANOMES_DIA\n",
    "# Extrair o mês e criar a nova coluna MES_DIAGN\n",
    "#AGORA A COLUNA VAI SE CHAMAR MES_DIAGN e vai guardar somente o MES do DIAGNOSTICO\n",
    "df['MES_DIAGN'] = df['ANOMES_DIA'].astype(str).str[-2:].astype(int)\n",
    "\n",
    "# Remover a coluna antiga\n",
    "df.drop(columns=['ANOMES_DIA'], inplace=True)"
   ]
  },
  {
   "cell_type": "markdown",
   "metadata": {},
   "source": [
    "Na coluna ANO_TRATAM vamos preencher os valores nulos com 'DESCONHECIDO', visto que não são todos que diagnosticam e tratam o câncer."
   ]
  },
  {
   "cell_type": "code",
   "execution_count": 140,
   "metadata": {},
   "outputs": [],
   "source": [
    "# Substituir NaN por \"NÃO REGISTRADO\" e converter números para inteiros\n",
    "df['ANO_TRATAM'] = df['ANO_TRATAM'].apply(lambda x: 'DESCONHECIDO' if pd.isna(x) else int(x))"
   ]
  },
  {
   "cell_type": "markdown",
   "metadata": {},
   "source": [
    "Aqui na coluna ANOMES_TRA, aplicamos a mesma lógica da coluna MES_DIAGN, em que recortamos os valores e pegamos só o mês do início do tratamento. Para os valores nulos preenchemos também com 'DESCONHECIDO'."
   ]
  },
  {
   "cell_type": "code",
   "execution_count": 141,
   "metadata": {},
   "outputs": [],
   "source": [
    "# Criar a coluna MES_TRA com tratamento\n",
    "df['MES_TRATAM'] = df['ANOMES_TRA'].apply(\n",
    "    lambda x: 'DESCONHECIDO' if pd.isna(x) else int(str(int(x))[-2:])\n",
    ")\n",
    "\n",
    "# Remover a coluna antiga\n",
    "df.drop(columns=['ANOMES_TRA'], inplace=True)"
   ]
  },
  {
   "cell_type": "markdown",
   "metadata": {},
   "source": [
    "Aqui verificamos se a coluna UF_RESID tem valores nulos, como não há, seguimos para a próxima."
   ]
  },
  {
   "cell_type": "code",
   "execution_count": 143,
   "metadata": {},
   "outputs": [
    {
     "name": "stdout",
     "output_type": "stream",
     "text": [
      "A coluna UF_RESID não contém valores nulos.\n"
     ]
    }
   ],
   "source": [
    "# Verificar se há valores nulos\n",
    "valores_nulos = df['UF_RESID'].isna().any()\n",
    "\n",
    "# Exibir o resultado\n",
    "if valores_nulos:\n",
    "    print(\"A coluna UF_RESID contém valores nulos.\")\n",
    "else:\n",
    "    print(\"A coluna UF_RESID não contém valores nulos.\")"
   ]
  },
  {
   "cell_type": "markdown",
   "metadata": {},
   "source": [
    "Aqui verificamos se a coluna MUN_RESID tem valores nulos, como não há, seguimos para a próxima."
   ]
  },
  {
   "cell_type": "code",
   "execution_count": 144,
   "metadata": {},
   "outputs": [
    {
     "name": "stdout",
     "output_type": "stream",
     "text": [
      "A coluna MUN_RESID não contém valores nulos.\n"
     ]
    }
   ],
   "source": [
    "# Verificar se há valores nulos\n",
    "valores_nulos = df['MUN_RESID'].isna().any()\n",
    "\n",
    "# Exibir o resultado\n",
    "if valores_nulos:\n",
    "    print(\"A coluna MUN_RESID contém valores nulos.\")\n",
    "else:\n",
    "    print(\"A coluna MUN_RESID não contém valores nulos.\")"
   ]
  },
  {
   "cell_type": "markdown",
   "metadata": {},
   "source": [
    "Nas colunas UF_TRATAM e MUN_TRATAM existem valores nulos, visto que nem todos iniciam o tratamento. Nesse sentido preenchemos eles com 'DESCONHECIDO'"
   ]
  },
  {
   "cell_type": "code",
   "execution_count": 145,
   "metadata": {},
   "outputs": [],
   "source": [
    "# Tratar a coluna UF_TRATAM\n",
    "df['UF_TRATAM'] = df['UF_TRATAM'].apply(lambda x: 'DESCONHECIDO' if pd.isna(x) else int(x))\n",
    "\n",
    "df['MUN_TRATAM'] = df['MUN_TRATAM'].apply(lambda x: 'DESCONHECIDO' if pd.isna(x) else int(x))"
   ]
  },
  {
   "cell_type": "markdown",
   "metadata": {},
   "source": [
    "Aqui renomeamos as colunas referentes à diagnóstico e tratamento para um padrão. todas elas vão terminar com DIAGN (para diagnóstico) e TRATAM (para tratamento)."
   ]
  },
  {
   "cell_type": "code",
   "execution_count": 147,
   "metadata": {},
   "outputs": [],
   "source": [
    "# Renomear as colunas para um padrão\n",
    "df.rename(columns={'UF_DIAG': 'UF_DIAGN'}, inplace=True)\n",
    "\n",
    "df.rename(columns={'MUN_DIAG': 'MUN_DIAGN'}, inplace=True)\n",
    "\n",
    "df.rename(columns={'CNES_DIAG': 'CNES_DIAGN'}, inplace=True)\n",
    "\n",
    "df.rename(columns={'CNES_TRAT': 'CNES_TRATAM'}, inplace=True)\n",
    "\n",
    "df.rename(columns={'TEMPO_TRAT': 'TEMPO_TRATAM'}, inplace=True)\n",
    "\n",
    "df.rename(columns={'DT_DIAG': 'DT_DIAGN'}, inplace=True)\n",
    "\n",
    "df.rename(columns={'DT_TRAT': 'DT_TRATAM'}, inplace=True)\n"
   ]
  },
  {
   "cell_type": "markdown",
   "metadata": {},
   "source": [
    "Aqui verificamos se a coluna UF_DIAGN tem valores nulos, como não tem, seguimos para a próxima."
   ]
  },
  {
   "cell_type": "code",
   "execution_count": 148,
   "metadata": {},
   "outputs": [
    {
     "name": "stdout",
     "output_type": "stream",
     "text": [
      "A coluna UF_DIAGN não contém valores nulos.\n"
     ]
    }
   ],
   "source": [
    "# Verificar se há valores nulos\n",
    "valores_nulos = df['UF_DIAGN'].isna().any()\n",
    "\n",
    "# Exibir o resultado\n",
    "if valores_nulos:\n",
    "    print(\"A coluna UF_DIAGN contém valores nulos.\")\n",
    "else:\n",
    "    print(\"A coluna UF_DIAGN não contém valores nulos.\")"
   ]
  },
  {
   "cell_type": "markdown",
   "metadata": {},
   "source": [
    "Aqui verificamos se a coluna MUN_DIAGN tem valores nulos, como não tem, seguimos para a próxima."
   ]
  },
  {
   "cell_type": "code",
   "execution_count": 149,
   "metadata": {},
   "outputs": [
    {
     "name": "stdout",
     "output_type": "stream",
     "text": [
      "A coluna MUN_DIAGN não contém valores nulos.\n"
     ]
    }
   ],
   "source": [
    "# Verificar se há valores nulos\n",
    "valores_nulos = df['MUN_DIAGN'].isna().any()\n",
    "\n",
    "# Exibir o resultado\n",
    "if valores_nulos:\n",
    "    print(\"A coluna MUN_DIAGN contém valores nulos.\")\n",
    "else:\n",
    "    print(\"A coluna MUN_DIAGN não contém valores nulos.\")"
   ]
  },
  {
   "cell_type": "markdown",
   "metadata": {},
   "source": [
    "Aqui verificamos se a coluna TRATAMENTO tem valores nulos. Ela não possui, mas isso não significa que todas as pessoas fizeram tratamento, isso é porque quando for o valor 5 é que não possui informações sobre o tratamento."
   ]
  },
  {
   "cell_type": "code",
   "execution_count": 150,
   "metadata": {},
   "outputs": [
    {
     "name": "stdout",
     "output_type": "stream",
     "text": [
      "A coluna TRATAMENTO não contém valores nulos.\n"
     ]
    }
   ],
   "source": [
    "# Verificar se há valores nulos\n",
    "valores_nulos = df['TRATAMENTO'].isna().any()\n",
    "\n",
    "# Exibir o resultado\n",
    "if valores_nulos:\n",
    "    print(\"A coluna TRATAMENTO contém valores nulos.\")\n",
    "else:\n",
    "    print(\"A coluna TRATAMENTO não contém valores nulos.\")"
   ]
  },
  {
   "cell_type": "markdown",
   "metadata": {},
   "source": [
    "Aqui verificamos se a coluna DIAGNOSTIC tem valores nulos, como não tem, seguimos para a próxima."
   ]
  },
  {
   "cell_type": "code",
   "execution_count": 151,
   "metadata": {},
   "outputs": [
    {
     "name": "stdout",
     "output_type": "stream",
     "text": [
      "A coluna DIAGNOSTIC não contém valores nulos.\n"
     ]
    }
   ],
   "source": [
    "# Verificar se há valores nulos\n",
    "valores_nulos = df['DIAGNOSTIC'].isna().any()\n",
    "\n",
    "# Exibir o resultado\n",
    "if valores_nulos:\n",
    "    print(\"A coluna DIAGNOSTIC contém valores nulos.\")\n",
    "else:\n",
    "    print(\"A coluna DIAGNOSTIC não contém valores nulos.\")"
   ]
  },
  {
   "cell_type": "markdown",
   "metadata": {},
   "source": [
    "Na coluna IDADE, quando o valor for 999 é porque a idade do paciente foi ignorada no momento do registro. Nesse sentido, abaixo filtramos para observar quais os registros em que a idade foi ignorada. Como foram poucos (certa de 10). Eles não teriam muito impacto. Alteramos esses valores para DESCONHECIDO para facilitar a manipulação de dados nessa coluna. Se um analista fosse calcular a média, esses valores 999 atrapalhariam."
   ]
  },
  {
   "cell_type": "code",
   "execution_count": 152,
   "metadata": {},
   "outputs": [
    {
     "name": "stdout",
     "output_type": "stream",
     "text": [
      "         ANO_DIAGN ANO_TRATAM  UF_RESID  MUN_RESID UF_TRATAM MUN_TRATAM  \\\n",
      "462389        2019       2020        23     230690        23     230440   \n",
      "792885        2019       2020        17     172010        35     350550   \n",
      "859275        2020       2023        24     240800        24     240800   \n",
      "963136        2020       2021        35     351880        35     355030   \n",
      "1212519       2020       2020        42     420290        42     420240   \n",
      "1248142       2020       2023        24     240520        24     240800   \n",
      "1475736       2021       2022        29     290750        29     292740   \n",
      "3019065       2023       2023        42     420320        42     420910   \n",
      "3128980       2023       2024        41     410370        41     411370   \n",
      "3132682       2023       2024        33     330452        33     330455   \n",
      "\n",
      "         UF_DIAGN  MUN_DIAGN  TRATAMENTO  DIAGNOSTIC  ...  CNES_DIAGN  \\\n",
      "462389         23     230440           2           1  ...     2563681   \n",
      "792885         35     350550           2           1  ...     2090236   \n",
      "859275         24     240800           2           1  ...     3675580   \n",
      "963136         35     355030           3           1  ...     2089696   \n",
      "1212519        42     420240           2           1  ...     2558254   \n",
      "1248142        24     240800           2           1  ...     3675580   \n",
      "1475736        29     292740           2           1  ...        4278   \n",
      "3019065        42     420910           2           1  ...     6048692   \n",
      "3128980        41     411370           2           1  ...     2577623   \n",
      "3132682        33     330455           2           1  ...     2269988   \n",
      "\n",
      "        CNES_TRATAM  TEMPO_TRATAM  CNS_PAC  DIAG_DETH    DT_DIAGN   DT_TRATAM  \\\n",
      "462389    2563681.0         373.0      NaN        C64  29/01/2019  06/02/2020   \n",
      "792885    2090236.0         372.0      NaN        C91  08/10/2019  14/10/2020   \n",
      "859275    3675580.0        1192.0      NaN        C91  08/03/2020  13/06/2023   \n",
      "963136    2089696.0         416.0      NaN        C49  01/02/2020  23/03/2021   \n",
      "1212519   2558254.0         301.0      NaN        C92  01/01/2020  28/10/2020   \n",
      "1248142   3675580.0        1234.0      NaN        C91  08/03/2020  25/07/2023   \n",
      "1475736      4278.0         365.0      NaN        C91  11/05/2021  11/05/2022   \n",
      "3019065   6048692.0          25.0      NaN        C92  01/05/2023  26/05/2023   \n",
      "3128980   2577623.0         231.0      NaN        C96  01/08/2023  19/03/2024   \n",
      "3132682   2269988.0         420.0      NaN        C74  06/02/2023  01/04/2024   \n",
      "\n",
      "            DT_NASC MES_DIAGN MES_TRATAM  \n",
      "462389   17/06/2019         1          2  \n",
      "792885   27/04/2020        10         10  \n",
      "859275   13/04/2020         3          6  \n",
      "963136   03/06/2020         2          3  \n",
      "1212519  21/10/2020         1         10  \n",
      "1248142  04/08/2020         3          7  \n",
      "1475736  11/11/2021         5          5  \n",
      "3019065  05/05/2023         5          5  \n",
      "3128980  12/09/2023         8          3  \n",
      "3132682  10/01/2024         2          4  \n",
      "\n",
      "[10 rows x 23 columns]\n"
     ]
    }
   ],
   "source": [
    "# Filtrar os valores da coluna IDADE que são 999\n",
    "df_999 = df[df['IDADE'] == 999]\n",
    "\n",
    "# Exibir o resultado\n",
    "print(df_999)"
   ]
  },
  {
   "cell_type": "code",
   "execution_count": 153,
   "metadata": {},
   "outputs": [],
   "source": [
    "# Substituir os valores 999 por 'NÃO REGISTRADO' na coluna IDADE\n",
    "df['IDADE'] = df['IDADE'].replace(999, 'IGNORADA')"
   ]
  },
  {
   "cell_type": "markdown",
   "metadata": {},
   "source": [
    "Aqui verificamos se a coluna SEXO tem valores nulos, como não tem, seguimos para a próxima."
   ]
  },
  {
   "cell_type": "code",
   "execution_count": 154,
   "metadata": {},
   "outputs": [
    {
     "name": "stdout",
     "output_type": "stream",
     "text": [
      "A coluna SEXO não contém valores nulos.\n"
     ]
    }
   ],
   "source": [
    "# Verificar se há valores nulos\n",
    "valores_nulos = df['SEXO'].isna().any()\n",
    "\n",
    "# Exibir o resultado\n",
    "if valores_nulos:\n",
    "    print(\"A coluna SEXO contém valores nulos.\")\n",
    "else:\n",
    "    print(\"A coluna SEXO não contém valores nulos.\")"
   ]
  },
  {
   "cell_type": "markdown",
   "metadata": {},
   "source": [
    "Aqui verificamos se a coluna ESTADIAM (estadiamento registrado da doença) tem valores nulos, como ela possui, fizemos o tratamento preenchendo os valores nulos por 9, que no dicionário de dados da base indica que é o valor correspondente ao ignorado. Além disso transformamos a coluna para inteiro, afim de dar uniformidade aos dados."
   ]
  },
  {
   "cell_type": "code",
   "execution_count": 155,
   "metadata": {},
   "outputs": [
    {
     "name": "stdout",
     "output_type": "stream",
     "text": [
      "A coluna ESTADIAM contém valores nulos.\n"
     ]
    }
   ],
   "source": [
    "# Verificar se há valores nulos\n",
    "valores_nulos = df['ESTADIAM'].isna().any()\n",
    "\n",
    "# Exibir o resultado\n",
    "if valores_nulos:\n",
    "    print(\"A coluna ESTADIAM contém valores nulos.\")\n",
    "else:\n",
    "    print(\"A coluna ESTADIAM não contém valores nulos.\")"
   ]
  },
  {
   "cell_type": "code",
   "execution_count": 158,
   "metadata": {},
   "outputs": [],
   "source": [
    "# Substituir os valores nulos por 9 na coluna ESTADIAM\n",
    "df['ESTADIAM'] = df['ESTADIAM'].fillna(9)"
   ]
  },
  {
   "cell_type": "code",
   "execution_count": 175,
   "metadata": {},
   "outputs": [],
   "source": [
    "df['ESTADIAM'] = df['ESTADIAM'].astype(int)"
   ]
  },
  {
   "cell_type": "markdown",
   "metadata": {},
   "source": [
    "Aqui verificamos se a coluna CNES_DIAGN (Código do estabelecimento do diagnóstico no cadastro nacional) tem valores nulos, como não tem, seguimos para a próxima."
   ]
  },
  {
   "cell_type": "code",
   "execution_count": 159,
   "metadata": {},
   "outputs": [
    {
     "name": "stdout",
     "output_type": "stream",
     "text": [
      "A coluna CNES_DIAGN não contém valores nulos.\n"
     ]
    }
   ],
   "source": [
    "# Verificar se há valores nulos\n",
    "valores_nulos = df['CNES_DIAGN'].isna().any()\n",
    "\n",
    "# Exibir o resultado\n",
    "if valores_nulos:\n",
    "    print(\"A coluna CNES_DIAGN contém valores nulos.\")\n",
    "else:\n",
    "    print(\"A coluna CNES_DIAGN não contém valores nulos.\")"
   ]
  },
  {
   "cell_type": "markdown",
   "metadata": {},
   "source": [
    "Aqui verificamos se a coluna CNES_TRATAM (Código do estabelecimento do tratamento no cadastro nacional) tem valores nulos, como ele possui (já que nem todos fazem o tratamento da doença), fizemos o tratamento da base preenchendo os valores nulos com 0, depois passamos a coluna para inteiro (uniformidade) e depois substituimos onde havia 0 por 'DESCONHECIDO'."
   ]
  },
  {
   "cell_type": "code",
   "execution_count": 160,
   "metadata": {},
   "outputs": [
    {
     "name": "stdout",
     "output_type": "stream",
     "text": [
      "A coluna CNES_TRATAM contém valores nulos.\n"
     ]
    }
   ],
   "source": [
    "# Verificar se há valores nulos\n",
    "valores_nulos = df['CNES_TRATAM'].isna().any()\n",
    "\n",
    "# Exibir o resultado\n",
    "if valores_nulos:\n",
    "    print(\"A coluna CNES_TRATAM contém valores nulos.\")\n",
    "else:\n",
    "    print(\"A coluna CNES_TRATAM não contém valores nulos.\")"
   ]
  },
  {
   "cell_type": "code",
   "execution_count": 162,
   "metadata": {},
   "outputs": [],
   "source": [
    "# Substituir os valores nulos (NaN) por 0 ou outro valor desejado\n",
    "df['CNES_TRATAM'] = df['CNES_TRATAM'].fillna(0)\n",
    "\n",
    "# Converter os valores da coluna CNES_TRATAM para inteiro\n",
    "df['CNES_TRATAM'] = df['CNES_TRATAM'].astype(int)"
   ]
  },
  {
   "cell_type": "code",
   "execution_count": 171,
   "metadata": {},
   "outputs": [],
   "source": [
    "# Substituir os valores 0 por 'DESCONHECIDO' na coluna CNES_TRATAM\n",
    "df['CNES_TRATAM'] = df['CNES_TRATAM'].replace(0, 'DESCONHECIDO')"
   ]
  },
  {
   "cell_type": "markdown",
   "metadata": {},
   "source": [
    "Aqui verificamos se a coluna TEMPO_TRATAM tem valores nulos. Como ela possui (já que nem todos fazem o tratamento) preenchemos esses valores com 99999, que no dicionário de dados é indicado ser o número para quando não há informação de tratamento."
   ]
  },
  {
   "cell_type": "code",
   "execution_count": null,
   "metadata": {},
   "outputs": [
    {
     "name": "stdout",
     "output_type": "stream",
     "text": [
      "A coluna TEMPO_TRATAM contém valores nulos.\n"
     ]
    }
   ],
   "source": [
    "# Verificar se há valores nulos\n",
    "valores_nulos = df['TEMPO_TRATAM'].isna().any()\n",
    "\n",
    "# Exibir o resultado\n",
    "if valores_nulos:\n",
    "    print(\"A coluna TEMPO_TRATAM contém valores nulos.\")\n",
    "else:\n",
    "    print(\"A coluna TEMPO_TRATAM não contém valores nulos.\")"
   ]
  },
  {
   "cell_type": "code",
   "execution_count": 180,
   "metadata": {},
   "outputs": [],
   "source": [
    "df['TEMPO_TRATAM'] = df['TEMPO_TRATAM'].fillna(99999).astype(int)"
   ]
  },
  {
   "cell_type": "markdown",
   "metadata": {},
   "source": [
    "Aqui verificamos se a coluna DT_DIAGN (data do diagnóstico) contém valores nulos, como ela não possui. Seguimos para a próxima."
   ]
  },
  {
   "cell_type": "code",
   "execution_count": 185,
   "metadata": {},
   "outputs": [
    {
     "name": "stdout",
     "output_type": "stream",
     "text": [
      "A coluna DT_DIAGN não contém valores nulos.\n"
     ]
    }
   ],
   "source": [
    "# Verificar se há valores nulos\n",
    "valores_nulos = df['DT_DIAGN'].isna().any()\n",
    "\n",
    "# Exibir o resultado\n",
    "if valores_nulos:\n",
    "    print(\"A coluna DT_DIAGN contém valores nulos.\")\n",
    "else:\n",
    "    print(\"A coluna DT_DIAGN não contém valores nulos.\")"
   ]
  },
  {
   "cell_type": "markdown",
   "metadata": {},
   "source": [
    "Aqui deletamos a coluna CNS_PAC, que é o identificador da Carteira Nacional de Saúde. Por questão de dados sensíveis, a coluna foi removida."
   ]
  },
  {
   "cell_type": "code",
   "execution_count": 182,
   "metadata": {},
   "outputs": [],
   "source": [
    "df.drop(columns={'CNS_PAC'}, inplace=True, axis=1)"
   ]
  },
  {
   "cell_type": "markdown",
   "metadata": {},
   "source": [
    "Aqui verificamos se a coluna DT_TRATAM (data do início do tratamento) tem valores nulos. Como ela possui, preenchemos eles como DESCONHECIDO."
   ]
  },
  {
   "cell_type": "code",
   "execution_count": 193,
   "metadata": {},
   "outputs": [
    {
     "name": "stdout",
     "output_type": "stream",
     "text": [
      "A coluna DT_TRATAM não contém valores nulos.\n"
     ]
    }
   ],
   "source": [
    "# Verificar se há valores nulos\n",
    "valores_nulos = df['DT_TRATAM'].isna().any()\n",
    "\n",
    "# Exibir o resultado\n",
    "if valores_nulos:\n",
    "    print(\"A coluna DT_TRATAM contém valores nulos.\")\n",
    "else:\n",
    "    print(\"A coluna DT_TRATAM não contém valores nulos.\")"
   ]
  },
  {
   "cell_type": "code",
   "execution_count": 191,
   "metadata": {},
   "outputs": [],
   "source": [
    "# Substituir os valores nulos (NaN) por 0 ou outro valor desejado\n",
    "df['DT_TRATAM'] = df['DT_TRATAM'].fillna('DESCONHECIDO')\n"
   ]
  },
  {
   "cell_type": "markdown",
   "metadata": {},
   "source": [
    "Aqui fazemos só um reposicionamento das colunas para que todas fiquem em uma ordem mais coerente. No caso quando criamos as colunas MES_DIAGN e MES_TRATAM, elas são inseridas no final do dataframe. Para que fique mais fácil a compreensão da base, realocamos elas mais para o início."
   ]
  },
  {
   "cell_type": "code",
   "execution_count": 194,
   "metadata": {},
   "outputs": [],
   "source": [
    "#Definir as colunas que deseja mover e o ponto de inserção\n",
    "colunas_para_mover = ['MES_DIAGN']\n",
    "ponto_insercao = 1  # Índice onde as colunas serão inseridas (após 'COL2')\n",
    "\n",
    "# Reorganizar as colunas\n",
    "colunas = (\n",
    "    list(df.columns[:ponto_insercao]) +\n",
    "    colunas_para_mover +\n",
    "    [col for col in df.columns if col not in colunas_para_mover and col not in df.columns[:ponto_insercao]]\n",
    ")\n",
    "df = df[colunas]"
   ]
  },
  {
   "cell_type": "code",
   "execution_count": 196,
   "metadata": {},
   "outputs": [],
   "source": [
    "#Definir as colunas que deseja mover e o ponto de inserção\n",
    "colunas_para_mover = ['MES_TRATAM']\n",
    "ponto_insercao = 3  # Índice onde as colunas serão inseridas (após 'COL2')\n",
    "\n",
    "# Reorganizar as colunas\n",
    "colunas = (\n",
    "    list(df.columns[:ponto_insercao]) +\n",
    "    colunas_para_mover +\n",
    "    [col for col in df.columns if col not in colunas_para_mover and col not in df.columns[:ponto_insercao]]\n",
    ")\n",
    "df = df[colunas]"
   ]
  },
  {
   "cell_type": "code",
   "execution_count": null,
   "metadata": {},
   "outputs": [],
   "source": [
    "df.to_csv('base_tratada_final.csv')"
   ]
  }
 ],
 "metadata": {
  "kernelspec": {
   "display_name": "venv",
   "language": "python",
   "name": "python3"
  },
  "language_info": {
   "codemirror_mode": {
    "name": "ipython",
    "version": 3
   },
   "file_extension": ".py",
   "mimetype": "text/x-python",
   "name": "python",
   "nbconvert_exporter": "python",
   "pygments_lexer": "ipython3",
   "version": "3.11.9"
  }
 },
 "nbformat": 4,
 "nbformat_minor": 2
}
